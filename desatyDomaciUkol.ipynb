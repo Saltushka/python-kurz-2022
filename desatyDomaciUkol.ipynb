{
 "cells": [
  {
   "cell_type": "markdown",
   "metadata": {},
   "source": [
    "Firma má kanceláře v Praze, Plzni a Liberci."
   ]
  },
  {
   "cell_type": "code",
   "execution_count": 10,
   "metadata": {},
   "outputs": [
    {
     "data": {
      "text/html": [
       "<div>\n",
       "<style scoped>\n",
       "    .dataframe tbody tr th:only-of-type {\n",
       "        vertical-align: middle;\n",
       "    }\n",
       "\n",
       "    .dataframe tbody tr th {\n",
       "        vertical-align: top;\n",
       "    }\n",
       "\n",
       "    .dataframe thead th {\n",
       "        text-align: right;\n",
       "    }\n",
       "</style>\n",
       "<table border=\"1\" class=\"dataframe\">\n",
       "  <thead>\n",
       "    <tr style=\"text-align: right;\">\n",
       "      <th></th>\n",
       "      <th>jmeno</th>\n",
       "      <th>prijimeni</th>\n",
       "      <th>telefonni_cislo</th>\n",
       "      <th>cislo_zamestnance</th>\n",
       "    </tr>\n",
       "  </thead>\n",
       "  <tbody>\n",
       "    <tr>\n",
       "      <th>0</th>\n",
       "      <td>Nela</td>\n",
       "      <td>Šťastná</td>\n",
       "      <td>728 454 176</td>\n",
       "      <td>83</td>\n",
       "    </tr>\n",
       "    <tr>\n",
       "      <th>1</th>\n",
       "      <td>Heather</td>\n",
       "      <td>Marková</td>\n",
       "      <td>604 404 522</td>\n",
       "      <td>84</td>\n",
       "    </tr>\n",
       "    <tr>\n",
       "      <th>2</th>\n",
       "      <td>Krista</td>\n",
       "      <td>Procházková</td>\n",
       "      <td>+421 50 444 5544</td>\n",
       "      <td>85</td>\n",
       "    </tr>\n",
       "    <tr>\n",
       "      <th>3</th>\n",
       "      <td>Jennifer</td>\n",
       "      <td>Brown</td>\n",
       "      <td>775 545 190</td>\n",
       "      <td>86</td>\n",
       "    </tr>\n",
       "    <tr>\n",
       "      <th>4</th>\n",
       "      <td>Ladislava</td>\n",
       "      <td>Blackwell</td>\n",
       "      <td>+421 913 487 200</td>\n",
       "      <td>87</td>\n",
       "    </tr>\n",
       "  </tbody>\n",
       "</table>\n",
       "</div>"
      ],
      "text/plain": [
       "       jmeno    prijimeni   telefonni_cislo  cislo_zamestnance\n",
       "0       Nela      Šťastná       728 454 176                 83\n",
       "1    Heather      Marková       604 404 522                 84\n",
       "2     Krista  Procházková  +421 50 444 5544                 85\n",
       "3   Jennifer        Brown       775 545 190                 86\n",
       "4  Ladislava    Blackwell  +421 913 487 200                 87"
      ]
     },
     "execution_count": 10,
     "metadata": {},
     "output_type": "execute_result"
    }
   ],
   "source": [
    "import pandas as pd\n",
    "\n",
    "liberec = pd.read_csv (\"zam_liberec.csv\") \n",
    "plzen = pd.read_csv (\"zam_plzeň.csv\")\n",
    "praha = pd.read_csv (\"zam_praha.csv\")\n",
    "\n",
    "liberec.head()\n",
    "#plzen.head()\n",
    "#praha.head()"
   ]
  },
  {
   "cell_type": "markdown",
   "metadata": {},
   "source": [
    "Ke každé tabulce přidej nový sloupec mesto, které bude obsahovat informaci o tom, ve kterém městě zaměstnanec pracuje."
   ]
  },
  {
   "cell_type": "code",
   "execution_count": 11,
   "metadata": {},
   "outputs": [],
   "source": [
    "praha['mesto'] = 'V Praze'\n",
    "plzen['mesto'] = 'V Plzňi'\n",
    "liberec['mesto'] = 'V Liberci'\n"
   ]
  },
  {
   "cell_type": "markdown",
   "metadata": {},
   "source": [
    "A ted' zkontrolujeme nový sloupec \"město\" v Praze, Liberci a Plzni "
   ]
  },
  {
   "cell_type": "code",
   "execution_count": 12,
   "metadata": {},
   "outputs": [
    {
     "data": {
      "text/html": [
       "<div>\n",
       "<style scoped>\n",
       "    .dataframe tbody tr th:only-of-type {\n",
       "        vertical-align: middle;\n",
       "    }\n",
       "\n",
       "    .dataframe tbody tr th {\n",
       "        vertical-align: top;\n",
       "    }\n",
       "\n",
       "    .dataframe thead th {\n",
       "        text-align: right;\n",
       "    }\n",
       "</style>\n",
       "<table border=\"1\" class=\"dataframe\">\n",
       "  <thead>\n",
       "    <tr style=\"text-align: right;\">\n",
       "      <th></th>\n",
       "      <th>jmeno</th>\n",
       "      <th>prijimeni</th>\n",
       "      <th>telefonni_cislo</th>\n",
       "      <th>cislo_zamestnance</th>\n",
       "      <th>mesto</th>\n",
       "    </tr>\n",
       "  </thead>\n",
       "  <tbody>\n",
       "    <tr>\n",
       "      <th>0</th>\n",
       "      <td>Brian</td>\n",
       "      <td>Hall</td>\n",
       "      <td>+421 949 656 098</td>\n",
       "      <td>30</td>\n",
       "      <td>V Praze</td>\n",
       "    </tr>\n",
       "    <tr>\n",
       "      <th>1</th>\n",
       "      <td>Marta</td>\n",
       "      <td>Kolářová</td>\n",
       "      <td>730 456 163</td>\n",
       "      <td>32</td>\n",
       "      <td>V Praze</td>\n",
       "    </tr>\n",
       "    <tr>\n",
       "      <th>2</th>\n",
       "      <td>John</td>\n",
       "      <td>Moravec</td>\n",
       "      <td>725 092 179</td>\n",
       "      <td>33</td>\n",
       "      <td>V Praze</td>\n",
       "    </tr>\n",
       "    <tr>\n",
       "      <th>3</th>\n",
       "      <td>Dominika</td>\n",
       "      <td>Kopecká</td>\n",
       "      <td>722 747 626</td>\n",
       "      <td>34</td>\n",
       "      <td>V Praze</td>\n",
       "    </tr>\n",
       "    <tr>\n",
       "      <th>4</th>\n",
       "      <td>Marcel</td>\n",
       "      <td>Hájek</td>\n",
       "      <td>+421 902 928 669</td>\n",
       "      <td>35</td>\n",
       "      <td>V Praze</td>\n",
       "    </tr>\n",
       "  </tbody>\n",
       "</table>\n",
       "</div>"
      ],
      "text/plain": [
       "      jmeno prijimeni   telefonni_cislo  cislo_zamestnance    mesto\n",
       "0     Brian      Hall  +421 949 656 098                 30  V Praze\n",
       "1     Marta  Kolářová       730 456 163                 32  V Praze\n",
       "2      John   Moravec       725 092 179                 33  V Praze\n",
       "3  Dominika   Kopecká       722 747 626                 34  V Praze\n",
       "4    Marcel     Hájek  +421 902 928 669                 35  V Praze"
      ]
     },
     "execution_count": 12,
     "metadata": {},
     "output_type": "execute_result"
    }
   ],
   "source": [
    "praha.head()"
   ]
  },
  {
   "cell_type": "code",
   "execution_count": 13,
   "metadata": {},
   "outputs": [
    {
     "data": {
      "text/html": [
       "<div>\n",
       "<style scoped>\n",
       "    .dataframe tbody tr th:only-of-type {\n",
       "        vertical-align: middle;\n",
       "    }\n",
       "\n",
       "    .dataframe tbody tr th {\n",
       "        vertical-align: top;\n",
       "    }\n",
       "\n",
       "    .dataframe thead th {\n",
       "        text-align: right;\n",
       "    }\n",
       "</style>\n",
       "<table border=\"1\" class=\"dataframe\">\n",
       "  <thead>\n",
       "    <tr style=\"text-align: right;\">\n",
       "      <th></th>\n",
       "      <th>jmeno</th>\n",
       "      <th>prijimeni</th>\n",
       "      <th>telefonni_cislo</th>\n",
       "      <th>cislo_zamestnance</th>\n",
       "      <th>mesto</th>\n",
       "    </tr>\n",
       "  </thead>\n",
       "  <tbody>\n",
       "    <tr>\n",
       "      <th>0</th>\n",
       "      <td>Stacy</td>\n",
       "      <td>Pospíšilová</td>\n",
       "      <td>727 293 880</td>\n",
       "      <td>3</td>\n",
       "      <td>V Plzňi</td>\n",
       "    </tr>\n",
       "    <tr>\n",
       "      <th>1</th>\n",
       "      <td>Matěj</td>\n",
       "      <td>Král</td>\n",
       "      <td>770 787 377</td>\n",
       "      <td>6</td>\n",
       "      <td>V Plzňi</td>\n",
       "    </tr>\n",
       "    <tr>\n",
       "      <th>2</th>\n",
       "      <td>Amanda</td>\n",
       "      <td>Wilson</td>\n",
       "      <td>+421 52 656 7231</td>\n",
       "      <td>7</td>\n",
       "      <td>V Plzňi</td>\n",
       "    </tr>\n",
       "    <tr>\n",
       "      <th>3</th>\n",
       "      <td>Angel</td>\n",
       "      <td>Wilson</td>\n",
       "      <td>+421 52 135 2491</td>\n",
       "      <td>8</td>\n",
       "      <td>V Plzňi</td>\n",
       "    </tr>\n",
       "    <tr>\n",
       "      <th>4</th>\n",
       "      <td>Jindřich</td>\n",
       "      <td>Howell</td>\n",
       "      <td>+421 39 043 0948</td>\n",
       "      <td>10</td>\n",
       "      <td>V Plzňi</td>\n",
       "    </tr>\n",
       "  </tbody>\n",
       "</table>\n",
       "</div>"
      ],
      "text/plain": [
       "      jmeno    prijimeni   telefonni_cislo  cislo_zamestnance    mesto\n",
       "0     Stacy  Pospíšilová       727 293 880                  3  V Plzňi\n",
       "1     Matěj         Král       770 787 377                  6  V Plzňi\n",
       "2    Amanda       Wilson  +421 52 656 7231                  7  V Plzňi\n",
       "3     Angel       Wilson  +421 52 135 2491                  8  V Plzňi\n",
       "4  Jindřich       Howell  +421 39 043 0948                 10  V Plzňi"
      ]
     },
     "execution_count": 13,
     "metadata": {},
     "output_type": "execute_result"
    }
   ],
   "source": [
    "plzen.head()"
   ]
  },
  {
   "cell_type": "code",
   "execution_count": 14,
   "metadata": {},
   "outputs": [
    {
     "data": {
      "text/html": [
       "<div>\n",
       "<style scoped>\n",
       "    .dataframe tbody tr th:only-of-type {\n",
       "        vertical-align: middle;\n",
       "    }\n",
       "\n",
       "    .dataframe tbody tr th {\n",
       "        vertical-align: top;\n",
       "    }\n",
       "\n",
       "    .dataframe thead th {\n",
       "        text-align: right;\n",
       "    }\n",
       "</style>\n",
       "<table border=\"1\" class=\"dataframe\">\n",
       "  <thead>\n",
       "    <tr style=\"text-align: right;\">\n",
       "      <th></th>\n",
       "      <th>jmeno</th>\n",
       "      <th>prijimeni</th>\n",
       "      <th>telefonni_cislo</th>\n",
       "      <th>cislo_zamestnance</th>\n",
       "      <th>mesto</th>\n",
       "    </tr>\n",
       "  </thead>\n",
       "  <tbody>\n",
       "    <tr>\n",
       "      <th>0</th>\n",
       "      <td>Brian</td>\n",
       "      <td>Hall</td>\n",
       "      <td>+421 949 656 098</td>\n",
       "      <td>30</td>\n",
       "      <td>V Praze</td>\n",
       "    </tr>\n",
       "    <tr>\n",
       "      <th>1</th>\n",
       "      <td>Marta</td>\n",
       "      <td>Kolářová</td>\n",
       "      <td>730 456 163</td>\n",
       "      <td>32</td>\n",
       "      <td>V Praze</td>\n",
       "    </tr>\n",
       "    <tr>\n",
       "      <th>2</th>\n",
       "      <td>John</td>\n",
       "      <td>Moravec</td>\n",
       "      <td>725 092 179</td>\n",
       "      <td>33</td>\n",
       "      <td>V Praze</td>\n",
       "    </tr>\n",
       "    <tr>\n",
       "      <th>3</th>\n",
       "      <td>Dominika</td>\n",
       "      <td>Kopecká</td>\n",
       "      <td>722 747 626</td>\n",
       "      <td>34</td>\n",
       "      <td>V Praze</td>\n",
       "    </tr>\n",
       "    <tr>\n",
       "      <th>4</th>\n",
       "      <td>Marcel</td>\n",
       "      <td>Hájek</td>\n",
       "      <td>+421 902 928 669</td>\n",
       "      <td>35</td>\n",
       "      <td>V Praze</td>\n",
       "    </tr>\n",
       "  </tbody>\n",
       "</table>\n",
       "</div>"
      ],
      "text/plain": [
       "      jmeno prijimeni   telefonni_cislo  cislo_zamestnance    mesto\n",
       "0     Brian      Hall  +421 949 656 098                 30  V Praze\n",
       "1     Marta  Kolářová       730 456 163                 32  V Praze\n",
       "2      John   Moravec       725 092 179                 33  V Praze\n",
       "3  Dominika   Kopecká       722 747 626                 34  V Praze\n",
       "4    Marcel     Hájek  +421 902 928 669                 35  V Praze"
      ]
     },
     "execution_count": 14,
     "metadata": {},
     "output_type": "execute_result"
    }
   ],
   "source": [
    "praha.head()"
   ]
  },
  {
   "cell_type": "markdown",
   "metadata": {},
   "source": [
    "Vytvoř novou tabulku 'zamestnanci' pomocí pd.concat"
   ]
  },
  {
   "cell_type": "code",
   "execution_count": 15,
   "metadata": {},
   "outputs": [
    {
     "data": {
      "text/html": [
       "<div>\n",
       "<style scoped>\n",
       "    .dataframe tbody tr th:only-of-type {\n",
       "        vertical-align: middle;\n",
       "    }\n",
       "\n",
       "    .dataframe tbody tr th {\n",
       "        vertical-align: top;\n",
       "    }\n",
       "\n",
       "    .dataframe thead th {\n",
       "        text-align: right;\n",
       "    }\n",
       "</style>\n",
       "<table border=\"1\" class=\"dataframe\">\n",
       "  <thead>\n",
       "    <tr style=\"text-align: right;\">\n",
       "      <th></th>\n",
       "      <th>jmeno</th>\n",
       "      <th>prijimeni</th>\n",
       "      <th>telefonni_cislo</th>\n",
       "      <th>cislo_zamestnance</th>\n",
       "      <th>mesto</th>\n",
       "    </tr>\n",
       "  </thead>\n",
       "  <tbody>\n",
       "    <tr>\n",
       "      <th>0</th>\n",
       "      <td>Brian</td>\n",
       "      <td>Hall</td>\n",
       "      <td>+421 949 656 098</td>\n",
       "      <td>30</td>\n",
       "      <td>V Praze</td>\n",
       "    </tr>\n",
       "    <tr>\n",
       "      <th>1</th>\n",
       "      <td>Marta</td>\n",
       "      <td>Kolářová</td>\n",
       "      <td>730 456 163</td>\n",
       "      <td>32</td>\n",
       "      <td>V Praze</td>\n",
       "    </tr>\n",
       "    <tr>\n",
       "      <th>2</th>\n",
       "      <td>John</td>\n",
       "      <td>Moravec</td>\n",
       "      <td>725 092 179</td>\n",
       "      <td>33</td>\n",
       "      <td>V Praze</td>\n",
       "    </tr>\n",
       "    <tr>\n",
       "      <th>3</th>\n",
       "      <td>Dominika</td>\n",
       "      <td>Kopecká</td>\n",
       "      <td>722 747 626</td>\n",
       "      <td>34</td>\n",
       "      <td>V Praze</td>\n",
       "    </tr>\n",
       "    <tr>\n",
       "      <th>4</th>\n",
       "      <td>Marcel</td>\n",
       "      <td>Hájek</td>\n",
       "      <td>+421 902 928 669</td>\n",
       "      <td>35</td>\n",
       "      <td>V Praze</td>\n",
       "    </tr>\n",
       "  </tbody>\n",
       "</table>\n",
       "</div>"
      ],
      "text/plain": [
       "      jmeno prijimeni   telefonni_cislo  cislo_zamestnance    mesto\n",
       "0     Brian      Hall  +421 949 656 098                 30  V Praze\n",
       "1     Marta  Kolářová       730 456 163                 32  V Praze\n",
       "2      John   Moravec       725 092 179                 33  V Praze\n",
       "3  Dominika   Kopecká       722 747 626                 34  V Praze\n",
       "4    Marcel     Hájek  +421 902 928 669                 35  V Praze"
      ]
     },
     "execution_count": 15,
     "metadata": {},
     "output_type": "execute_result"
    }
   ],
   "source": [
    "\n",
    "zamestnanci = pd.concat([praha, plzen, liberec], ignore_index=True)\n",
    "\n",
    "# Zobraz prvních pár řádků nové tabulky pro kontrolu\n",
    "zamestnanci.head()\n"
   ]
  },
  {
   "cell_type": "markdown",
   "metadata": {},
   "source": [
    "Takto už nám vznikla pěkná vyčištěná tabulka. Uložme si ji do CSV"
   ]
  },
  {
   "cell_type": "code",
   "execution_count": 16,
   "metadata": {},
   "outputs": [],
   "source": [
    "zamestnanci.to_csv('zamestnanci_novy_file.csv', index=False)"
   ]
  },
  {
   "cell_type": "markdown",
   "metadata": {},
   "source": [
    "Ze souboru \"platy_2021_02.csv\" načti platy zaměstnanců za únor 2021. \n",
    "Propoj tabulku (operace join) s platy a tabulku \n",
    "se zaměstnanci pomocí sloupce \"cislo_zamestnance\""
   ]
  },
  {
   "cell_type": "code",
   "execution_count": 17,
   "metadata": {},
   "outputs": [],
   "source": [
    "platy = pd.read_csv('platy_2021_02.csv')"
   ]
  },
  {
   "cell_type": "code",
   "execution_count": 19,
   "metadata": {},
   "outputs": [
    {
     "data": {
      "text/html": [
       "<div>\n",
       "<style scoped>\n",
       "    .dataframe tbody tr th:only-of-type {\n",
       "        vertical-align: middle;\n",
       "    }\n",
       "\n",
       "    .dataframe tbody tr th {\n",
       "        vertical-align: top;\n",
       "    }\n",
       "\n",
       "    .dataframe thead th {\n",
       "        text-align: right;\n",
       "    }\n",
       "</style>\n",
       "<table border=\"1\" class=\"dataframe\">\n",
       "  <thead>\n",
       "    <tr style=\"text-align: right;\">\n",
       "      <th></th>\n",
       "      <th>jmeno</th>\n",
       "      <th>prijimeni</th>\n",
       "      <th>telefonni_cislo</th>\n",
       "      <th>cislo_zamestnance</th>\n",
       "      <th>mesto</th>\n",
       "      <th>plat</th>\n",
       "    </tr>\n",
       "  </thead>\n",
       "  <tbody>\n",
       "    <tr>\n",
       "      <th>0</th>\n",
       "      <td>Brian</td>\n",
       "      <td>Hall</td>\n",
       "      <td>+421 949 656 098</td>\n",
       "      <td>30</td>\n",
       "      <td>V Praze</td>\n",
       "      <td>33500.0</td>\n",
       "    </tr>\n",
       "    <tr>\n",
       "      <th>1</th>\n",
       "      <td>Marta</td>\n",
       "      <td>Kolářová</td>\n",
       "      <td>730 456 163</td>\n",
       "      <td>32</td>\n",
       "      <td>V Praze</td>\n",
       "      <td>53000.0</td>\n",
       "    </tr>\n",
       "    <tr>\n",
       "      <th>2</th>\n",
       "      <td>John</td>\n",
       "      <td>Moravec</td>\n",
       "      <td>725 092 179</td>\n",
       "      <td>33</td>\n",
       "      <td>V Praze</td>\n",
       "      <td>38400.0</td>\n",
       "    </tr>\n",
       "    <tr>\n",
       "      <th>3</th>\n",
       "      <td>Dominika</td>\n",
       "      <td>Kopecká</td>\n",
       "      <td>722 747 626</td>\n",
       "      <td>34</td>\n",
       "      <td>V Praze</td>\n",
       "      <td>36800.0</td>\n",
       "    </tr>\n",
       "    <tr>\n",
       "      <th>4</th>\n",
       "      <td>Milada</td>\n",
       "      <td>Hernandez</td>\n",
       "      <td>773 373 704</td>\n",
       "      <td>38</td>\n",
       "      <td>V Praze</td>\n",
       "      <td>32600.0</td>\n",
       "    </tr>\n",
       "  </tbody>\n",
       "</table>\n",
       "</div>"
      ],
      "text/plain": [
       "      jmeno  prijimeni   telefonni_cislo  cislo_zamestnance    mesto     plat\n",
       "0     Brian       Hall  +421 949 656 098                 30  V Praze  33500.0\n",
       "1     Marta   Kolářová       730 456 163                 32  V Praze  53000.0\n",
       "2      John    Moravec       725 092 179                 33  V Praze  38400.0\n",
       "3  Dominika    Kopecká       722 747 626                 34  V Praze  36800.0\n",
       "4    Milada  Hernandez       773 373 704                 38  V Praze  32600.0"
      ]
     },
     "execution_count": 19,
     "metadata": {},
     "output_type": "execute_result"
    }
   ],
   "source": [
    "zamestnanci_s_platy = pd.merge(zamestnanci, platy, on='cislo_zamestnance', how='inner')\n",
    "zamestnanci_s_platy.head()\n"
   ]
  },
  {
   "cell_type": "markdown",
   "metadata": {},
   "source": [
    "Porovnej rozměry tabulek před spojením a po spojení. Pokud nemá některý zaměstnanec plat za únor, \n",
    "znamená to, že v naší firmě již nepracuje."
   ]
  },
  {
   "cell_type": "code",
   "execution_count": 20,
   "metadata": {},
   "outputs": [
    {
     "data": {
      "text/plain": [
       "(43, 2)"
      ]
     },
     "execution_count": 20,
     "metadata": {},
     "output_type": "execute_result"
    }
   ],
   "source": [
    "zamestnanci.shape #Rozměry tabulek před spojením\n",
    "platy.shape"
   ]
  },
  {
   "cell_type": "code",
   "execution_count": 30,
   "metadata": {},
   "outputs": [
    {
     "data": {
      "text/plain": [
       "(43, 6)"
      ]
     },
     "execution_count": 30,
     "metadata": {},
     "output_type": "execute_result"
    }
   ],
   "source": [
    "zamestnanci_s_platy.shape  #Rozměry tabulky po spojení"
   ]
  },
  {
   "cell_type": "markdown",
   "metadata": {},
   "source": [
    "Spočti průměrný plat zaměstnanců v jednotlivých kancelářích"
   ]
  },
  {
   "cell_type": "code",
   "execution_count": 35,
   "metadata": {},
   "outputs": [
    {
     "ename": "KeyError",
     "evalue": "'Column not found: platy_2021_02'",
     "output_type": "error",
     "traceback": [
      "\u001b[0;31m---------------------------------------------------------------------------\u001b[0m",
      "\u001b[0;31mKeyError\u001b[0m                                  Traceback (most recent call last)",
      "\u001b[1;32m/Users/saltanatkerezova/Documents/Czechitas_Python1/python-kurz-2022/desatyDomaciUkol.ipynb Cell 20\u001b[0m line \u001b[0;36m1\n\u001b[0;32m----> <a href='vscode-notebook-cell:/Users/saltanatkerezova/Documents/Czechitas_Python1/python-kurz-2022/desatyDomaciUkol.ipynb#X26sZmlsZQ%3D%3D?line=0'>1</a>\u001b[0m zamestnanci_s_platy\u001b[39m.\u001b[39;49mgroupby(\u001b[39m\"\u001b[39;49m\u001b[39mmesto\u001b[39;49m\u001b[39m\"\u001b[39;49m)[\u001b[39m\"\u001b[39;49m\u001b[39mplaty_2021_02\u001b[39;49m\u001b[39m\"\u001b[39;49m]\u001b[39m.\u001b[39mmean()\n\u001b[1;32m      <a href='vscode-notebook-cell:/Users/saltanatkerezova/Documents/Czechitas_Python1/python-kurz-2022/desatyDomaciUkol.ipynb#X26sZmlsZQ%3D%3D?line=2'>3</a>\u001b[0m \u001b[39m#kod podle lekci:    maturita_se_jmeny_predsedajicimi.groupby(\"predmet\")[\"znamka\"].median() \u001b[39;00m\n",
      "File \u001b[0;32m/Library/Frameworks/Python.framework/Versions/3.11/lib/python3.11/site-packages/pandas/core/groupby/generic.py:1964\u001b[0m, in \u001b[0;36mDataFrameGroupBy.__getitem__\u001b[0;34m(self, key)\u001b[0m\n\u001b[1;32m   1957\u001b[0m \u001b[39mif\u001b[39;00m \u001b[39misinstance\u001b[39m(key, \u001b[39mtuple\u001b[39m) \u001b[39mand\u001b[39;00m \u001b[39mlen\u001b[39m(key) \u001b[39m>\u001b[39m \u001b[39m1\u001b[39m:\n\u001b[1;32m   1958\u001b[0m     \u001b[39m# if len == 1, then it becomes a SeriesGroupBy and this is actually\u001b[39;00m\n\u001b[1;32m   1959\u001b[0m     \u001b[39m# valid syntax, so don't raise\u001b[39;00m\n\u001b[1;32m   1960\u001b[0m     \u001b[39mraise\u001b[39;00m \u001b[39mValueError\u001b[39;00m(\n\u001b[1;32m   1961\u001b[0m         \u001b[39m\"\u001b[39m\u001b[39mCannot subset columns with a tuple with more than one element. \u001b[39m\u001b[39m\"\u001b[39m\n\u001b[1;32m   1962\u001b[0m         \u001b[39m\"\u001b[39m\u001b[39mUse a list instead.\u001b[39m\u001b[39m\"\u001b[39m\n\u001b[1;32m   1963\u001b[0m     )\n\u001b[0;32m-> 1964\u001b[0m \u001b[39mreturn\u001b[39;00m \u001b[39msuper\u001b[39;49m()\u001b[39m.\u001b[39;49m\u001b[39m__getitem__\u001b[39;49m(key)\n",
      "File \u001b[0;32m/Library/Frameworks/Python.framework/Versions/3.11/lib/python3.11/site-packages/pandas/core/base.py:244\u001b[0m, in \u001b[0;36mSelectionMixin.__getitem__\u001b[0;34m(self, key)\u001b[0m\n\u001b[1;32m    242\u001b[0m \u001b[39melse\u001b[39;00m:\n\u001b[1;32m    243\u001b[0m     \u001b[39mif\u001b[39;00m key \u001b[39mnot\u001b[39;00m \u001b[39min\u001b[39;00m \u001b[39mself\u001b[39m\u001b[39m.\u001b[39mobj:\n\u001b[0;32m--> 244\u001b[0m         \u001b[39mraise\u001b[39;00m \u001b[39mKeyError\u001b[39;00m(\u001b[39mf\u001b[39m\u001b[39m\"\u001b[39m\u001b[39mColumn not found: \u001b[39m\u001b[39m{\u001b[39;00mkey\u001b[39m}\u001b[39;00m\u001b[39m\"\u001b[39m)\n\u001b[1;32m    245\u001b[0m     ndim \u001b[39m=\u001b[39m \u001b[39mself\u001b[39m\u001b[39m.\u001b[39mobj[key]\u001b[39m.\u001b[39mndim\n\u001b[1;32m    246\u001b[0m     \u001b[39mreturn\u001b[39;00m \u001b[39mself\u001b[39m\u001b[39m.\u001b[39m_gotitem(key, ndim\u001b[39m=\u001b[39mndim)\n",
      "\u001b[0;31mKeyError\u001b[0m: 'Column not found: platy_2021_02'"
     ]
    }
   ],
   "source": [
    "zamestnanci_s_platy.groupby(\"mesto\")[\"platy_2021_02\"].mean()\n",
    "\n",
    "#kod podle lekci:    maturita_se_jmeny_predsedajicimi.groupby(\"predmet\")[\"znamka\"].median() "
   ]
  },
  {
   "cell_type": "markdown",
   "metadata": {},
   "source": [
    "Část 2\n",
    "\n",
    "Pokračuj ve své práci pro softwarovou firmu. Ze souboru vykazy.csv načti informace o výkazech \n",
    "na projekty pro jednoho vybraného zákazníka.\n",
    "\n",
    "Načti data ze souboru a ulož je do tabulky.\n",
    "Proveď agregaci a zjisti celkový počet vykázaných hodin za jednotlivé projekty."
   ]
  },
  {
   "cell_type": "code",
   "execution_count": 37,
   "metadata": {},
   "outputs": [
    {
     "data": {
      "text/html": [
       "<div>\n",
       "<style scoped>\n",
       "    .dataframe tbody tr th:only-of-type {\n",
       "        vertical-align: middle;\n",
       "    }\n",
       "\n",
       "    .dataframe tbody tr th {\n",
       "        vertical-align: top;\n",
       "    }\n",
       "\n",
       "    .dataframe thead th {\n",
       "        text-align: right;\n",
       "    }\n",
       "</style>\n",
       "<table border=\"1\" class=\"dataframe\">\n",
       "  <thead>\n",
       "    <tr style=\"text-align: right;\">\n",
       "      <th></th>\n",
       "      <th>date</th>\n",
       "      <th>hours</th>\n",
       "      <th>project</th>\n",
       "      <th>emloyee_id</th>\n",
       "    </tr>\n",
       "  </thead>\n",
       "  <tbody>\n",
       "    <tr>\n",
       "      <th>0</th>\n",
       "      <td>2021-02-01</td>\n",
       "      <td>2.5</td>\n",
       "      <td>F30</td>\n",
       "      <td>13</td>\n",
       "    </tr>\n",
       "    <tr>\n",
       "      <th>1</th>\n",
       "      <td>2021-02-01</td>\n",
       "      <td>3.4</td>\n",
       "      <td>W05</td>\n",
       "      <td>70</td>\n",
       "    </tr>\n",
       "    <tr>\n",
       "      <th>2</th>\n",
       "      <td>2021-02-01</td>\n",
       "      <td>2.1</td>\n",
       "      <td>JL9</td>\n",
       "      <td>72</td>\n",
       "    </tr>\n",
       "    <tr>\n",
       "      <th>3</th>\n",
       "      <td>2021-02-01</td>\n",
       "      <td>5.2</td>\n",
       "      <td>F30</td>\n",
       "      <td>3</td>\n",
       "    </tr>\n",
       "    <tr>\n",
       "      <th>4</th>\n",
       "      <td>2021-02-01</td>\n",
       "      <td>2.4</td>\n",
       "      <td>TE1</td>\n",
       "      <td>54</td>\n",
       "    </tr>\n",
       "  </tbody>\n",
       "</table>\n",
       "</div>"
      ],
      "text/plain": [
       "         date  hours project  emloyee_id\n",
       "0  2021-02-01    2.5     F30          13\n",
       "1  2021-02-01    3.4     W05          70\n",
       "2  2021-02-01    2.1     JL9          72\n",
       "3  2021-02-01    5.2     F30           3\n",
       "4  2021-02-01    2.4     TE1          54"
      ]
     },
     "execution_count": 37,
     "metadata": {},
     "output_type": "execute_result"
    }
   ],
   "source": [
    "vykazy = pd.read_csv('vykazy.csv')\n",
    "vykazy.head()"
   ]
  },
  {
   "cell_type": "code",
   "execution_count": 38,
   "metadata": {},
   "outputs": [
    {
     "ename": "KeyError",
     "evalue": "'projekt'",
     "output_type": "error",
     "traceback": [
      "\u001b[0;31m---------------------------------------------------------------------------\u001b[0m",
      "\u001b[0;31mKeyError\u001b[0m                                  Traceback (most recent call last)",
      "\u001b[1;32m/Users/saltanatkerezova/Documents/Czechitas_Python1/python-kurz-2022/desatyDomaciUkol.ipynb Cell 23\u001b[0m line \u001b[0;36m2\n\u001b[1;32m      <a href='vscode-notebook-cell:/Users/saltanatkerezova/Documents/Czechitas_Python1/python-kurz-2022/desatyDomaciUkol.ipynb#X32sZmlsZQ%3D%3D?line=0'>1</a>\u001b[0m \u001b[39m# Proveď agregaci a zjisti celkový počet vykázaných hodin za jednotlivé projekty\u001b[39;00m\n\u001b[0;32m----> <a href='vscode-notebook-cell:/Users/saltanatkerezova/Documents/Czechitas_Python1/python-kurz-2022/desatyDomaciUkol.ipynb#X32sZmlsZQ%3D%3D?line=1'>2</a>\u001b[0m celkove_hodiny_projekty \u001b[39m=\u001b[39m vykazy\u001b[39m.\u001b[39;49mgroupby(\u001b[39m'\u001b[39;49m\u001b[39mprojekt\u001b[39;49m\u001b[39m'\u001b[39;49m)[\u001b[39m'\u001b[39m\u001b[39mhodiny\u001b[39m\u001b[39m'\u001b[39m]\u001b[39m.\u001b[39msum()\n\u001b[1;32m      <a href='vscode-notebook-cell:/Users/saltanatkerezova/Documents/Czechitas_Python1/python-kurz-2022/desatyDomaciUkol.ipynb#X32sZmlsZQ%3D%3D?line=2'>3</a>\u001b[0m celkove_hodiny_projekty\n",
      "File \u001b[0;32m/Library/Frameworks/Python.framework/Versions/3.11/lib/python3.11/site-packages/pandas/core/frame.py:8869\u001b[0m, in \u001b[0;36mDataFrame.groupby\u001b[0;34m(self, by, axis, level, as_index, sort, group_keys, observed, dropna)\u001b[0m\n\u001b[1;32m   8866\u001b[0m \u001b[39mif\u001b[39;00m level \u001b[39mis\u001b[39;00m \u001b[39mNone\u001b[39;00m \u001b[39mand\u001b[39;00m by \u001b[39mis\u001b[39;00m \u001b[39mNone\u001b[39;00m:\n\u001b[1;32m   8867\u001b[0m     \u001b[39mraise\u001b[39;00m \u001b[39mTypeError\u001b[39;00m(\u001b[39m\"\u001b[39m\u001b[39mYou have to supply one of \u001b[39m\u001b[39m'\u001b[39m\u001b[39mby\u001b[39m\u001b[39m'\u001b[39m\u001b[39m and \u001b[39m\u001b[39m'\u001b[39m\u001b[39mlevel\u001b[39m\u001b[39m'\u001b[39m\u001b[39m\"\u001b[39m)\n\u001b[0;32m-> 8869\u001b[0m \u001b[39mreturn\u001b[39;00m DataFrameGroupBy(\n\u001b[1;32m   8870\u001b[0m     obj\u001b[39m=\u001b[39;49m\u001b[39mself\u001b[39;49m,\n\u001b[1;32m   8871\u001b[0m     keys\u001b[39m=\u001b[39;49mby,\n\u001b[1;32m   8872\u001b[0m     axis\u001b[39m=\u001b[39;49maxis,\n\u001b[1;32m   8873\u001b[0m     level\u001b[39m=\u001b[39;49mlevel,\n\u001b[1;32m   8874\u001b[0m     as_index\u001b[39m=\u001b[39;49mas_index,\n\u001b[1;32m   8875\u001b[0m     sort\u001b[39m=\u001b[39;49msort,\n\u001b[1;32m   8876\u001b[0m     group_keys\u001b[39m=\u001b[39;49mgroup_keys,\n\u001b[1;32m   8877\u001b[0m     observed\u001b[39m=\u001b[39;49mobserved,\n\u001b[1;32m   8878\u001b[0m     dropna\u001b[39m=\u001b[39;49mdropna,\n\u001b[1;32m   8879\u001b[0m )\n",
      "File \u001b[0;32m/Library/Frameworks/Python.framework/Versions/3.11/lib/python3.11/site-packages/pandas/core/groupby/groupby.py:1278\u001b[0m, in \u001b[0;36mGroupBy.__init__\u001b[0;34m(self, obj, keys, axis, level, grouper, exclusions, selection, as_index, sort, group_keys, observed, dropna)\u001b[0m\n\u001b[1;32m   1275\u001b[0m \u001b[39mself\u001b[39m\u001b[39m.\u001b[39mdropna \u001b[39m=\u001b[39m dropna\n\u001b[1;32m   1277\u001b[0m \u001b[39mif\u001b[39;00m grouper \u001b[39mis\u001b[39;00m \u001b[39mNone\u001b[39;00m:\n\u001b[0;32m-> 1278\u001b[0m     grouper, exclusions, obj \u001b[39m=\u001b[39m get_grouper(\n\u001b[1;32m   1279\u001b[0m         obj,\n\u001b[1;32m   1280\u001b[0m         keys,\n\u001b[1;32m   1281\u001b[0m         axis\u001b[39m=\u001b[39;49maxis,\n\u001b[1;32m   1282\u001b[0m         level\u001b[39m=\u001b[39;49mlevel,\n\u001b[1;32m   1283\u001b[0m         sort\u001b[39m=\u001b[39;49msort,\n\u001b[1;32m   1284\u001b[0m         observed\u001b[39m=\u001b[39;49m\u001b[39mFalse\u001b[39;49;00m \u001b[39mif\u001b[39;49;00m observed \u001b[39mis\u001b[39;49;00m lib\u001b[39m.\u001b[39;49mno_default \u001b[39melse\u001b[39;49;00m observed,\n\u001b[1;32m   1285\u001b[0m         dropna\u001b[39m=\u001b[39;49m\u001b[39mself\u001b[39;49m\u001b[39m.\u001b[39;49mdropna,\n\u001b[1;32m   1286\u001b[0m     )\n\u001b[1;32m   1288\u001b[0m \u001b[39mif\u001b[39;00m observed \u001b[39mis\u001b[39;00m lib\u001b[39m.\u001b[39mno_default:\n\u001b[1;32m   1289\u001b[0m     \u001b[39mif\u001b[39;00m \u001b[39many\u001b[39m(ping\u001b[39m.\u001b[39m_passed_categorical \u001b[39mfor\u001b[39;00m ping \u001b[39min\u001b[39;00m grouper\u001b[39m.\u001b[39mgroupings):\n",
      "File \u001b[0;32m/Library/Frameworks/Python.framework/Versions/3.11/lib/python3.11/site-packages/pandas/core/groupby/grouper.py:1009\u001b[0m, in \u001b[0;36mget_grouper\u001b[0;34m(obj, key, axis, level, sort, observed, validate, dropna)\u001b[0m\n\u001b[1;32m   1007\u001b[0m         in_axis, level, gpr \u001b[39m=\u001b[39m \u001b[39mFalse\u001b[39;00m, gpr, \u001b[39mNone\u001b[39;00m\n\u001b[1;32m   1008\u001b[0m     \u001b[39melse\u001b[39;00m:\n\u001b[0;32m-> 1009\u001b[0m         \u001b[39mraise\u001b[39;00m \u001b[39mKeyError\u001b[39;00m(gpr)\n\u001b[1;32m   1010\u001b[0m \u001b[39melif\u001b[39;00m \u001b[39misinstance\u001b[39m(gpr, Grouper) \u001b[39mand\u001b[39;00m gpr\u001b[39m.\u001b[39mkey \u001b[39mis\u001b[39;00m \u001b[39mnot\u001b[39;00m \u001b[39mNone\u001b[39;00m:\n\u001b[1;32m   1011\u001b[0m     \u001b[39m# Add key to exclusions\u001b[39;00m\n\u001b[1;32m   1012\u001b[0m     exclusions\u001b[39m.\u001b[39madd(gpr\u001b[39m.\u001b[39mkey)\n",
      "\u001b[0;31mKeyError\u001b[0m: 'projekt'"
     ]
    }
   ],
   "source": [
    "celkove_hodiny_projekty = vykazy.groupby('projekt')['hodiny'].sum()\n",
    "celkove_hodiny_projekty\n"
   ]
  }
 ],
 "metadata": {
  "kernelspec": {
   "display_name": "Python 3",
   "language": "python",
   "name": "python3"
  },
  "language_info": {
   "codemirror_mode": {
    "name": "ipython",
    "version": 3
   },
   "file_extension": ".py",
   "mimetype": "text/x-python",
   "name": "python",
   "nbconvert_exporter": "python",
   "pygments_lexer": "ipython3",
   "version": "3.11.4"
  }
 },
 "nbformat": 4,
 "nbformat_minor": 2
}
